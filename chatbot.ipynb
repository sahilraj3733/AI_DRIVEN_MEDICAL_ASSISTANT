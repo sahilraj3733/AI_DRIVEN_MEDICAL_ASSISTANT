{
 "cells": [
  {
   "cell_type": "code",
   "execution_count": 1,
   "id": "19677737",
   "metadata": {},
   "outputs": [],
   "source": [
    "from langchain.schema import Document\n",
    "from langchain_text_splitters import RecursiveCharacterTextSplitter\n",
    "from langchain.vectorstores import FAISS\n",
    "from langchain_huggingface import HuggingFaceEmbeddings\n",
    "from langchain.prompts import PromptTemplate,ChatPromptTemplate\n",
    "from langchain_core.output_parsers import StrOutputParser\n",
    "from langchain_core.runnables import RunnableLambda,RunnableParallel,RunnablePassthrough\n",
    "from langchain_groq import ChatGroq\n",
    "from dotenv import load_dotenv\n",
    "import os\n",
    "load_dotenv()\n",
    "travly=os.getenv('travly')\n",
    "os.environ[\"TAVILY_API_KEY\"] = travly \n",
    "\n",
    "\n",
    "from langgraph.graph import StateGraph,END,START\n",
    "from langchain.tools import tool\n",
    "from langgraph.prebuilt import ToolNode\n",
    "\n",
    "\n",
    "api_key=os.getenv('groq_api')\n",
    "llm=ChatGroq(model=\"gemma2-9b-it\",api_key=api_key)"
   ]
  },
  {
   "cell_type": "code",
   "execution_count": 2,
   "id": "e5d969db",
   "metadata": {},
   "outputs": [
    {
     "name": "stderr",
     "output_type": "stream",
     "text": [
      "/Users/sahilraj/Desktop/Agentic_ai/myenv/lib/python3.13/site-packages/tqdm/auto.py:21: TqdmWarning: IProgress not found. Please update jupyter and ipywidgets. See https://ipywidgets.readthedocs.io/en/stable/user_install.html\n",
      "  from .autonotebook import tqdm as notebook_tqdm\n"
     ]
    }
   ],
   "source": [
    "embedings= HuggingFaceEmbeddings(model_name=\"all-MiniLM-L6-v2\")\n",
    "\n",
    "db = FAISS.load_local('my_faiss_index', embedings, allow_dangerous_deserialization=True)\n"
   ]
  },
  {
   "cell_type": "code",
   "execution_count": 3,
   "id": "2b423686",
   "metadata": {},
   "outputs": [],
   "source": [
    "retriever = db.as_retriever(\n",
    "    search_type=\"mmr\",\n",
    "    search_kwargs={\"k\": 5, \"lambda_mult\": 0.5}\n",
    ")"
   ]
  },
  {
   "cell_type": "code",
   "execution_count": 4,
   "id": "6afc31cc",
   "metadata": {},
   "outputs": [
    {
     "data": {
      "text/plain": [
       "[Document(id='426152fd-4d8c-4336-bee8-fc648c68620e', metadata={}, page_content='What causes fever?Hello!I really appreciate your concern. There are certain possibilities about your fever. It may be due to untreated malaria if malaria is prevalent in your area. It may be due to bacterial sore throat which is relapsing when your immunity is down.If person come to my clinic with similar complaints I would advise him some blood test like complete blood count with malaria parasite testing. Further management depends upon it.Hope my answer has solved your query. Take Care.Thank you. Best Regards.Dr. Manan'),\n",
       " Document(id='7231e644-2161-426e-b350-0d4c572b6f98', metadata={}, page_content='What is brain fever?Hello,I had gone through your query and understand your concern. Short answer: Brain fever is infection of part of brain.Detailed answer: Thanks for asking on HCM.Brain fever is a term used to refer an infection of brain. It may encephalitis, meningitis, cerebritis etc. It may also be due to scarlet fever. These conditions presents with fever. It may also cause some neurological problems like inability to pass urine. Yes, with right treatment it takes some time get completely cured.Hope this helps.If you have any other queries, feel free to ask. Regards, Dr.Prathap Kumar'),\n",
       " Document(id='1087c543-0bdf-43dd-9311-2b6cff291f7c', metadata={'producer': 'GPL Ghostscript 9.10', 'creator': '', 'creationdate': '2017-05-01T10:37:35-07:00', 'moddate': '2017-05-01T10:37:35-07:00', 'title': '', 'author': '', 'subject': '', 'keywords': '', 'source': '/kaggle/input/medical-dataset/medical_book.pdf', 'total_pages': 759, 'page': 700, 'page_label': '701'}, page_content='fever when given certain anesthetics or muscle relaxants\\nin preparation for surgery.\\nHow long a fever lasts and how high it may go\\ndepends on several factors, including its cause, the age of\\nthe patient, and his or her overall health. Most fevers\\ncaused by infections are acute, appearing suddenly and\\nthen dissipating as the immune system defeats the infec-\\ntious agent. An infectious fever may also rise and fall\\nthroughout the day, reaching its peek in the late after-\\nnoon or early evening. A low-grade fever that lasts for\\nseveral weeks is associated with autoimmune diseases\\nsuch as lupus or with some cancers, particularly\\nleukemia and lymphoma.\\nDiagnosis\\nA fever is usually diagnosed using a thermometer. A\\nvariety of different thermometers are available, including\\ntraditional glass and mercury ones used for oral or rectal\\ntemperature readings and more sophisticated electronic\\nones that can be inserted in the ear to quickly register the'),\n",
       " Document(id='d8bf4680-bf52-478b-b598-20ce54c15445', metadata={'producer': 'GPL Ghostscript 9.10', 'creator': '', 'creationdate': '2017-05-01T10:37:35-07:00', 'moddate': '2017-05-01T10:37:35-07:00', 'title': '', 'author': '', 'subject': '', 'keywords': '', 'source': '/kaggle/input/medical-dataset/medical_book.pdf', 'total_pages': 759, 'page': 699, 'page_label': '700'}, page_content='help the body’s cells repair themselves. In addition, the\\nincreased heart rate that may accompany the changes in\\nblood circulation also speeds the arrival of white blood\\ncells to the sites of infection.\\nCauses and symptoms\\nFevers are primarily caused by viral or bacterial\\ninfections, such as pneumonia or influenza . However,\\nother conditions can induce a fever, including allergic\\nreactions; autoimmune diseases; trauma, such as breaking\\na bone; cancer; excessive exposure to the sun; intense\\nGALE ENCYCLOPEDIA OF MEDICINE 2\\n1314\\nFever\\nF.\\nG.\\nA.\\nC.\\nB.\\nD.\\nE.\\nA dramatic rise in body temperature often includes the following symptoms: A. Loss of fluid results in dehydration. B.The\\nhypothalamic set-point is increased, raising metabolism. C. Blood vessels in skin dilate. D. Sweat glands produce excess\\nperspiration. E. Increased pulse rate. F. Increased hypothalmic set-point may introduce chills and shivering to promote heat\\nproduction from muscles. G. Skin becomes more heat-sensitive.'),\n",
       " Document(id='1d9ae8a4-73ae-4c09-8157-30fd92ab0609', metadata={}, page_content=\"Does a child with fever and flu, need urgent medical attention?Hello , it's joyfully to me to answer your question. 1st of all, any infection manifested by fever should be searched for a focus by meticulous examination as the condition may range from an easily treatable non serious condition to a life threatening one, but your child ailment seems to be an upper respiratory tract infection as seen from the manifestations you mentioned , and I can say obviously that subsiding of fever is a very good sign so do not worry, wait and see and keep adequate hydration with water and warm fluids.\")]"
      ]
     },
     "execution_count": 4,
     "metadata": {},
     "output_type": "execute_result"
    }
   ],
   "source": [
    "retriever.invoke('what is fever ')"
   ]
  },
  {
   "cell_type": "code",
   "execution_count": 7,
   "id": "e136a532",
   "metadata": {},
   "outputs": [
    {
     "name": "stderr",
     "output_type": "stream",
     "text": [
      "/var/folders/wj/7vhzs5pd1070p45fjvwk8q480000gn/T/ipykernel_7795/2037232497.py:8: LangChainDeprecationWarning: The class `TavilySearchResults` was deprecated in LangChain 0.3.25 and will be removed in 1.0. An updated version of the class exists in the :class:`~langchain-tavily package and should be used instead. To use it run `pip install -U :class:`~langchain-tavily` and import as `from :class:`~langchain_tavily import TavilySearch``.\n",
      "  search_tool = TavilySearchResults(max_results=2)\n"
     ]
    }
   ],
   "source": [
    "\n",
    "from langchain_community.tools.tavily_search import TavilySearchResults\n",
    "from langchain.tools.retriever import create_retriever_tool\n",
    "retriever_tool = create_retriever_tool(\n",
    "    retriever,\n",
    "    \"retriever_tool\",\n",
    "    \"Information related to medical conditions, symptoms, treatments, medications, and health advice. Use this tool to answer specific questions about illnesses, drugs, and general health topics.\",\n",
    ")\n",
    "search_tool = TavilySearchResults(max_results=2)\n",
    "tools = [search_tool,retriever_tool]"
   ]
  },
  {
   "cell_type": "code",
   "execution_count": 8,
   "id": "2bec7c96",
   "metadata": {},
   "outputs": [],
   "source": [
    "\n",
    "def agent(state: AgentState):\n",
    "    \"\"\"\n",
    "    The agent's main function. It reasons, then decides to act or provide a final answer.\n",
    "    \"\"\"\n",
    "    intermediate_steps = state['intermediate_steps']\n",
    "\n",
    "\n",
    "    # Extract tool names and descriptions dynamically\n",
    "    tool_names = \", \".join([tool.name for tool in tools])\n",
    "    tool_descriptions = \"\\n\".join([f\"{tool.name}: {tool.description}\" for tool in tools])\n",
    "\n",
    "\n",
    "    prompt = f\"\"\"\n",
    "    You are DoctorBot, a highly knowledgeable and empathetic AI medical assistant. \n",
    "    Your role is to provide accurate and helpful medical information and possible explanations, \n",
    "    but you are NOT a licensed doctor. \n",
    "\n",
    "    You have access to the following tools:\n",
    "    {tool_descriptions}\n",
    "\n",
    "    Your primary goals are:\n",
    "    - Be empathetic and reassuring, maintaining a professional and warm tone.\n",
    "    - Provide accurate and concise information based on your knowledge and tools.\n",
    "    - Use the retriever tool to look up possible causes of symptoms whenever symptoms are mentioned.\n",
    "\n",
    "    You MUST follow these rules:\n",
    "\n",
    "    1. If the user reports symptoms (e.g., fever, headache, cough), always query the retriever tool first \n",
    "    to check for possible related conditions.\n",
    "    2. When giving the Final Answer, clearly explain:\n",
    "    - The common possible causes of those symptoms (from retriever/database).\n",
    "    - General self-care measures (hydration, rest, monitoring).\n",
    "    - A strong disclaimer that only a doctor can confirm the actual diagnosis.\n",
    "    3. Never present a single definitive diagnosis. Always present information as \"possible causes\" or \"conditions that are sometimes associated\".\n",
    "    4. Never prescribe medications, doses, or treatments. Instead, recommend consulting a licensed healthcare professional.\n",
    "    5. If symptoms indicate an emergency (e.g., severe chest pain, difficulty breathing, unconsciousness), instruct the user to seek immediate emergency care.\n",
    "    6. The Final Answer must be conversational, empathetic, and merged from all relevant tool outputs.\n",
    "\n",
    "    Response format (strictly follow ReAct pattern):\n",
    "\n",
    "    If reasoning:\n",
    "    Thought: your reasoning about the request.\n",
    "    Action: the tool you want to use, must be one of [{tool_names}]\n",
    "    Action Input: input for that tool.\n",
    "\n",
    "    If answering:\n",
    "    Final Answer: A complete, empathetic, and conversational response with possible causes \n",
    "    (based on tool output), self-care tips, and a clear disclaimer that only a doctor can provide a real diagnosis.\n",
    "\n",
    "    Conversation history:\n",
    "    {intermediate_steps}\n",
    "    \"\"\"\n",
    "\n",
    "    response_content = llm.invoke(prompt).content\n",
    "    if \"Final Answer\" in response_content:\n",
    "        return {'messages':[AIMessage(content=response_content)]}\n",
    "    elif \"Action:\" in response_content:\n",
    "        return {'intermediate_steps': [AIMessage(content=response_content)]}\n",
    "    else:\n",
    "        return {'intermediate_steps': [AIMessage(content=response_content)]}\n",
    "    \n",
    "\n",
    "def should_continue(state: AgentState):\n",
    "    \"\"\"\n",
    "    Router function to decide if the workflow should continue.\n",
    "    \"\"\"\n",
    "    last_message = state['messages'][-1]\n",
    "    intermediate_steps=state['intermediate_steps'][-1]\n",
    "    \n",
    "    # Check for the presence of 'Final Answer'\n",
    "    if \"Final Answer:\" in last_message.content:\n",
    "        return END\n",
    "        \n",
    "    # Check for a tool action\n",
    "    if \"Action:\" in intermediate_steps.content:\n",
    "        return \"tools\"\n",
    "    \n",
    "    return END"
   ]
  },
  {
   "cell_type": "code",
   "execution_count": 9,
   "id": "00c2ae9d",
   "metadata": {},
   "outputs": [],
   "source": [
    "def call_tool(state: AgentState):\n",
    "    intermediate_steps = state['intermediate_steps']\n",
    "    last_message = intermediate_steps[-1]\n",
    "\n",
    "    # Split into lines for safer parsing\n",
    "    lines = last_message.content.splitlines()\n",
    "    tool_name, tool_input = None, None\n",
    "\n",
    "    for line in lines:\n",
    "        lower_line = line.strip().lower()\n",
    "        if lower_line.startswith(\"action:\"):\n",
    "            tool_name = line.split(\":\", 1)[1].strip()\n",
    "        elif lower_line.startswith(\"action input:\"):\n",
    "            tool_input = line.split(\":\", 1)[1].strip()\n",
    "\n",
    "    if not tool_name or not tool_input:\n",
    "        return {\n",
    "            'messages': [\n",
    "                AIMessage(content=f\"Error: Could not parse tool action from agent response.\\n\\nContent was:\\n{last_message.content}\")\n",
    "            ]\n",
    "        }\n",
    "\n",
    "    # Find the correct tool\n",
    "    tool_to_run = next((t for t in tools if t.name == tool_name), None)\n",
    "    if tool_to_run:\n",
    "        try:\n",
    "            tool_output = tool_to_run.invoke(tool_input)\n",
    "        except Exception as e:\n",
    "            return {'intermediate_steps': [AIMessage(content=f\"Error: Tool '{tool_name}' failed with: {str(e)}\")]}\n",
    "        \n",
    "        # Return the tool's output as a message for the agent to observe\n",
    "        return {'intermediate_steps': [AIMessage(content=f\"Tool Output: {tool_output}\")]}\n",
    "    else:\n",
    "        return {'messages': [AIMessage(content=f\"Error: Unknown tool '{tool_name}'\")]}\n"
   ]
  },
  {
   "cell_type": "code",
   "execution_count": 10,
   "id": "2312f939",
   "metadata": {},
   "outputs": [],
   "source": [
    "from langgraph.checkpoint.memory import MemorySaver\n",
    "checkpointer=MemorySaver()\n",
    "graph=StateGraph(AgentState)\n",
    "\n",
    "graph.add_node(\"agent\",agent)\n",
    "graph.add_node(\"tools\",call_tool)\n",
    "\n",
    "graph.add_edge(START,\"agent\")\n",
    "graph.add_conditional_edges(\"agent\",should_continue,{\"tools\":\"tools\",END:END})\n",
    "graph.add_edge(\"tools\",\"agent\")\n",
    "app=graph.compile(checkpointer=checkpointer)"
   ]
  },
  {
   "cell_type": "code",
   "execution_count": 11,
   "id": "f2acf625",
   "metadata": {},
   "outputs": [
    {
     "data": {
      "image/png": "[encoded data removed]",
      "text/plain": [
       "<langgraph.graph.state.CompiledStateGraph object at 0x3934817f0>"
      ]
     },
     "execution_count": 11,
     "metadata": {},
     "output_type": "execute_result"
    }
   ],
   "source": [
    "app"
   ]
  },
  {
   "cell_type": "code",
   "execution_count": 12,
   "id": "650f7c95",
   "metadata": {},
   "outputs": [
    {
     "data": {
      "text/plain": [
       "{'messages': [HumanMessage(content='Hi my name is sahil raj', additional_kwargs={}, response_metadata={}, id='742acbce-cbe6-4cb2-a6e2-bc6895c8ead6'),\n",
       "  AIMessage(content=\"Final Answer: Hello Sahil Raj, it's nice to meet you!  How can I help you today? \\n\", additional_kwargs={}, response_metadata={}, id='211f3cb1-0ef4-4a51-be5f-53e949fce887')],\n",
       " 'intermediate_steps': [HumanMessage(content='Hi my name is sahil raj', additional_kwargs={}, response_metadata={}, id='7f1dda6d-99ea-47ea-b9cd-7c2504e2fb69')]}"
      ]
     },
     "execution_count": 12,
     "metadata": {},
     "output_type": "execute_result"
    }
   ],
   "source": [
    "cnf={'configurable':{'thread_id':2}}\n",
    "query=\"Hi my name is sahil raj\"\n",
    "app.invoke({\"messages\":HumanMessage(content=query),\"intermediate_steps\":HumanMessage(content=query)},config=cnf)"
   ]
  },
  {
   "cell_type": "code",
   "execution_count": 160,
   "id": "4269b3ea",
   "metadata": {},
   "outputs": [],
   "source": [
    "cnf={'configurable':{'thread_id':7}}\n",
    "query=\"Symptoms of heart attack?\"\n",
    "result=app.invoke({\"messages\":HumanMessage(content=query),\"intermediate_steps\":HumanMessage(content=query)},config=cnf)"
   ]
  },
  {
   "cell_type": "code",
   "execution_count": 154,
   "id": "ece7ac9b",
   "metadata": {},
   "outputs": [
    {
     "data": {
      "text/plain": [
       "[HumanMessage(content='Symptoms of heart attack?', additional_kwargs={}, response_metadata={}, id='18907ad3-8306-4676-99a9-fc7fd8b69d51'),\n",
       " AIMessage(content='Thought: The user is asking about symptoms of a heart attack. This is a serious medical concern, and I need to provide accurate information while also being reassuring.\\n\\nAction: retriever_tool\\nAction Input: Symptoms of a heart attack \\n\\n\\n', additional_kwargs={}, response_metadata={}, id='4b79571c-e54e-4154-805a-f843a8aa5800'),\n",
       " AIMessage(content=\"Tool Output: What are the signs of a heart attack?Hi,\\n\\nCan severe back pain, feeling faint, sweating and nausea be due to a heart attack?hi. yes, back pain, sweating and faintness could be symptoms of a possible heart attack. if the pain is persistent, in a cresendo pattern, and you have risk factors ( hypertension, diabetes, increased cholesterol, smoker, family history of heart disease) , you should see a doctor right away so you can be evaluated properly.\\n\\nAre upper abdominal discomfort, diarrhea and muscle cramps signs of heart attack?Hello Ma'amI've gone through the details and understanding your concerns. Ma'am I want to tell your symptoms are suggestive of gastric reflux and muscular pain. Gastric reflux can be because of Aspirin & for this you can ask your treating doctor to put you on alternative medicine.Heart pains are generally chest, radiating to arms, shoulders and jaw. It can not be feel by pressing it.Good Luck\\n\\nWhat are the symptoms of potential heart attack?Common heart attack signs and symptoms include:Pressure, tightness, pain, or a squeezing or aching sensation in your chest or arms that may spread to your neck, jaw or backNausea, indigestion, heartburn or abdominal painShortness of breathCold sweatFatigueLightheadedness or sudden dizzinessHeart attack symptoms varyNot all people who have heart attacks have the same symptoms or have the same severity of symptoms. Some people have mild pain; others have more severe pain. Some people have no symptoms, while for others, the first sign may be sudden cardiac arrest. However, the more signs and symptoms you have, the greater the likelihood you're having a heart attack.Some heart attacks strike suddenly, but many people have warning signs and symptoms hours, days or weeks in advance. The earliest warning may be recurrent chest pain (angina) that's triggered by exertion and relieved by rest. Angina is caused by a temporary decrease in blood flow to the heart.\\n\\nWhat are the early signs and symptoms of heart attack?it's not heart attack it's due to stress . stay happy don't take stress eat healthy u r v young don't think about these diseases\", additional_kwargs={}, response_metadata={}, id='6a45b596-c104-4830-83ca-88a3137899ae')]"
      ]
     },
     "execution_count": 154,
     "metadata": {},
     "output_type": "execute_result"
    }
   ],
   "source": [
    "result['intermediate_steps']"
   ]
  },
  {
   "cell_type": "code",
   "execution_count": 153,
   "id": "e4c534db",
   "metadata": {},
   "outputs": [
    {
     "data": {
      "text/plain": [
       "[HumanMessage(content='Symptoms of heart attack?', additional_kwargs={}, response_metadata={}, id='bdb159f8-7fa2-4981-87e8-809aaf4c614c'),\n",
       " AIMessage(content=\"Final Answer: I understand you're concerned about the symptoms of a heart attack. It's great that you're being proactive about your health!  The retriever tool tells me that common heart attack symptoms can include chest pain or discomfort, shortness of breath, nausea, indigestion, cold sweats, fatigue, lightheadedness, and pain that can radiate to the arms, neck, jaw, or back.\\n\\nRemember, it's important not to self-diagnose. These symptoms can also be caused by other conditions. If you're experiencing any of these symptoms, especially if they are severe or persistent, it's crucial to seek immediate medical attention. A doctor can properly evaluate your symptoms and determine the underlying cause.\\n\\nIn the meantime, make sure to stay hydrated, get plenty of rest, and monitor your symptoms closely. \\n\\n\\n\\n\", additional_kwargs={}, response_metadata={}, id='74bbee9b-8fd4-463e-97ea-bec4c358445b')]"
      ]
     },
     "execution_count": 153,
     "metadata": {},
     "output_type": "execute_result"
    }
   ],
   "source": [
    "result['messages']"
   ]
  },
  {
   "cell_type": "code",
   "execution_count": 13,
   "id": "065df326",
   "metadata": {},
   "outputs": [
    {
     "name": "stdout",
     "output_type": "stream",
     "text": [
      "Thought: The user is asking about symptoms of blood cancer, so I should use the retriever tool to provide information about possible symptoms. \n",
      "Action: retriever_tool\n",
      "Action Input: Symptoms of blood cancer \n",
      "\n",
      "Thought: The user is asking about symptoms of blood cancer, so I should use the retriever tool to provide information about possible symptoms. \n",
      "Action: retriever_tool\n",
      "Action Input: Symptoms of blood cancer \n",
      "\n",
      "Tool Output: What are the symptoms of cancer?Hi and welcome to HCmyes but this is not the first thing to think of. this is more likely to be some systemic infection and this is the first thing to evaluate. blood disorders can furthetly be evaluated by hematologist but as I said you should be optimistic and do compelte work up.,, Wish you good health. Regards\n",
      "\n",
      "My friend is suffering from blood cancer, please helpHi and welcome to healthcare magic forum. Blood cancer is a very broad terminology. There are many types of blood cancer and the survival rate will depend upon type and severity of the cancers. Now a days many of the cancers are treatable and we have bone marrow transplant. It is very difficult to tell that all blood cancers will lead to death or all can be cured, without examining the patient or seeing the patient blood reports and bone marrow result.\n",
      "\n",
      "Can platelets count be a symptom of blood cancer?It is rarely a symptom of blood cancer and had your father been suffering from blood cancer it would have shown in other tests. A small % of ITP patients do not respond to steroids and IViG. These patients need to undergo a surgery for removal of their spleen (splenectomy). That cures them forever of their condition and corrects the platelet counts.\n",
      "\n",
      "Headache, fainting feeling, bleeding gums. Blood cancer?Dear friend.Thanks for sharing your concern.please do not be worried.It appears from your symptoms that you might have gingivitis.That is inflammation of gums.This happens due to local factors like calculus deposition and plaque adherance.Therefore please visit your dentist and get scaling(cleaning)done once.please do not relate it with cancer.There are many many more symptoms for cancer.Hope it helps.Thanks.Take care.\n",
      "\n",
      "What are the symptoms of bladder cancer?Most common symptoms r    Blood or blood clots in the urine    Pain or burning during urination    Frequent urination    Feeling the need to urinate many times throughout the night    Feeling the need to urinate, but not being able to pass urine    Lower back pain on one side of the bodyFinal Answer: I understand you're curious about the symptoms of blood cancer. It's important to remember that I'm not a medical professional and can't provide diagnoses. \n",
      "\n",
      "The retriever tool mentioned that blood cancer is a broad term with various types, and symptoms can vary greatly. Some possible symptoms it listed include changes in blood cell counts, fatigue, weakness, frequent infections, and unexplained bruising or bleeding. \n",
      "\n",
      "If you're experiencing any concerning symptoms, it's crucial to consult a doctor. They can perform the necessary tests and examinations to determine the cause and provide appropriate treatment. \n",
      "\n",
      "Remember, early detection and treatment are essential for managing blood cancer and improving outcomes. Please reach out to a healthcare professional for any health concerns you may have. \n",
      "Final Answer: I understand you're curious about the symptoms of blood cancer. It's important to remember that I'm not a medical professional and can't provide diagnoses. \n",
      "\n",
      "The retriever tool mentioned that blood cancer is a broad term with various types, and symptoms can vary greatly. Some possible symptoms it listed include changes in blood cell counts, fatigue, weakness, frequent infections, and unexplained bruising or bleeding. \n",
      "\n",
      "If you're experiencing any concerning symptoms, it's crucial to consult a doctor. They can perform the necessary tests and examinations to determine the cause and provide appropriate treatment. \n",
      "\n",
      "Remember, early detection and treatment are essential for managing blood cancer and improving outcomes. Please reach out to a healthcare professional for any health concerns you may have. \n"
     ]
    }
   ],
   "source": [
    "import re\n",
    "query=\"Symptoms of blood cancer?\"\n",
    "cnf={'configurable':{'thread_id':10}}\n",
    "for message_chunk,metatdata in app.stream({\"messages\": [HumanMessage(content=query)],\"intermediate_steps\":[HumanMessage(content=query)]},config=cnf,stream_mode='messages'):\n",
    "    if message_chunk.content:\n",
    "            print(message_chunk.content,end='',flush=True)\n"
   ]
  },
  {
   "cell_type": "code",
   "execution_count": null,
   "id": "6b164b27",
   "metadata": {},
   "outputs": [],
   "source": []
  }
 ],
 "metadata": {
  "kernelspec": {
   "display_name": "myenv",
   "language": "python",
   "name": "python3"
  },
  "language_info": {
   "codemirror_mode": {
    "name": "ipython",
    "version": 3
   },
   "file_extension": ".py",
   "mimetype": "text/x-python",
   "name": "python",
   "nbconvert_exporter": "python",
   "pygments_lexer": "ipython3",
   "version": "3.13.5"
  }
 },
 "nbformat": 4,
 "nbformat_minor": 5
}
